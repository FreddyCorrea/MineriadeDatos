{
 "cells": [
  {
   "cell_type": "markdown",
   "metadata": {},
   "source": [
    "# Exercise 7\n",
    "\n",
    "# Capital Bikeshare data"
   ]
  },
  {
   "cell_type": "markdown",
   "metadata": {},
   "source": [
    "## Introduction\n",
    "\n",
    "- Capital Bikeshare dataset from Kaggle: [data](https://github.com/justmarkham/DAT8/blob/master/data/bikeshare.csv), [data dictionary](https://www.kaggle.com/c/bike-sharing-demand/data)\n",
    "- Each observation represents the bikeshare rentals initiated during a given hour of a given day"
   ]
  },
  {
   "cell_type": "code",
   "execution_count": 4,
   "metadata": {},
   "outputs": [],
   "source": [
    "%matplotlib inline\n",
    "import pandas as pd\n",
    "import numpy as np\n",
    "from  sklearn.model_selection import cross_val_score\n",
    "from sklearn.linear_model import LinearRegression\n",
    "from sklearn.tree import DecisionTreeRegressor, export_graphviz"
   ]
  },
  {
   "cell_type": "code",
   "execution_count": 5,
   "metadata": {},
   "outputs": [],
   "source": [
    "# read the data and set \"datetime\" as the index\n",
    "url = 'https://raw.githubusercontent.com/justmarkham/DAT8/master/data/bikeshare.csv'\n",
    "bikes = pd.read_csv(url, index_col='datetime', parse_dates=True)"
   ]
  },
  {
   "cell_type": "code",
   "execution_count": 6,
   "metadata": {},
   "outputs": [],
   "source": [
    "# \"count\" is a method, so it's best to rename that column\n",
    "bikes.rename(columns={'count':'total'}, inplace=True)"
   ]
  },
  {
   "cell_type": "code",
   "execution_count": 7,
   "metadata": {},
   "outputs": [],
   "source": [
    "# create \"hour\" as its own feature\n",
    "bikes['hour'] = bikes.index.hour"
   ]
  },
  {
   "cell_type": "code",
   "execution_count": 8,
   "metadata": {},
   "outputs": [
    {
     "data": {
      "text/html": [
       "<div>\n",
       "<style scoped>\n",
       "    .dataframe tbody tr th:only-of-type {\n",
       "        vertical-align: middle;\n",
       "    }\n",
       "\n",
       "    .dataframe tbody tr th {\n",
       "        vertical-align: top;\n",
       "    }\n",
       "\n",
       "    .dataframe thead th {\n",
       "        text-align: right;\n",
       "    }\n",
       "</style>\n",
       "<table border=\"1\" class=\"dataframe\">\n",
       "  <thead>\n",
       "    <tr style=\"text-align: right;\">\n",
       "      <th></th>\n",
       "      <th>season</th>\n",
       "      <th>holiday</th>\n",
       "      <th>workingday</th>\n",
       "      <th>weather</th>\n",
       "      <th>temp</th>\n",
       "      <th>atemp</th>\n",
       "      <th>humidity</th>\n",
       "      <th>windspeed</th>\n",
       "      <th>casual</th>\n",
       "      <th>registered</th>\n",
       "      <th>total</th>\n",
       "      <th>hour</th>\n",
       "    </tr>\n",
       "    <tr>\n",
       "      <th>datetime</th>\n",
       "      <th></th>\n",
       "      <th></th>\n",
       "      <th></th>\n",
       "      <th></th>\n",
       "      <th></th>\n",
       "      <th></th>\n",
       "      <th></th>\n",
       "      <th></th>\n",
       "      <th></th>\n",
       "      <th></th>\n",
       "      <th></th>\n",
       "      <th></th>\n",
       "    </tr>\n",
       "  </thead>\n",
       "  <tbody>\n",
       "    <tr>\n",
       "      <th>2011-01-01 00:00:00</th>\n",
       "      <td>1</td>\n",
       "      <td>0</td>\n",
       "      <td>0</td>\n",
       "      <td>1</td>\n",
       "      <td>9.84</td>\n",
       "      <td>14.395</td>\n",
       "      <td>81</td>\n",
       "      <td>0.0</td>\n",
       "      <td>3</td>\n",
       "      <td>13</td>\n",
       "      <td>16</td>\n",
       "      <td>0</td>\n",
       "    </tr>\n",
       "    <tr>\n",
       "      <th>2011-01-01 01:00:00</th>\n",
       "      <td>1</td>\n",
       "      <td>0</td>\n",
       "      <td>0</td>\n",
       "      <td>1</td>\n",
       "      <td>9.02</td>\n",
       "      <td>13.635</td>\n",
       "      <td>80</td>\n",
       "      <td>0.0</td>\n",
       "      <td>8</td>\n",
       "      <td>32</td>\n",
       "      <td>40</td>\n",
       "      <td>1</td>\n",
       "    </tr>\n",
       "    <tr>\n",
       "      <th>2011-01-01 02:00:00</th>\n",
       "      <td>1</td>\n",
       "      <td>0</td>\n",
       "      <td>0</td>\n",
       "      <td>1</td>\n",
       "      <td>9.02</td>\n",
       "      <td>13.635</td>\n",
       "      <td>80</td>\n",
       "      <td>0.0</td>\n",
       "      <td>5</td>\n",
       "      <td>27</td>\n",
       "      <td>32</td>\n",
       "      <td>2</td>\n",
       "    </tr>\n",
       "    <tr>\n",
       "      <th>2011-01-01 03:00:00</th>\n",
       "      <td>1</td>\n",
       "      <td>0</td>\n",
       "      <td>0</td>\n",
       "      <td>1</td>\n",
       "      <td>9.84</td>\n",
       "      <td>14.395</td>\n",
       "      <td>75</td>\n",
       "      <td>0.0</td>\n",
       "      <td>3</td>\n",
       "      <td>10</td>\n",
       "      <td>13</td>\n",
       "      <td>3</td>\n",
       "    </tr>\n",
       "    <tr>\n",
       "      <th>2011-01-01 04:00:00</th>\n",
       "      <td>1</td>\n",
       "      <td>0</td>\n",
       "      <td>0</td>\n",
       "      <td>1</td>\n",
       "      <td>9.84</td>\n",
       "      <td>14.395</td>\n",
       "      <td>75</td>\n",
       "      <td>0.0</td>\n",
       "      <td>0</td>\n",
       "      <td>1</td>\n",
       "      <td>1</td>\n",
       "      <td>4</td>\n",
       "    </tr>\n",
       "  </tbody>\n",
       "</table>\n",
       "</div>"
      ],
      "text/plain": [
       "                     season  holiday  workingday  weather  temp   atemp  \\\n",
       "datetime                                                                  \n",
       "2011-01-01 00:00:00       1        0           0        1  9.84  14.395   \n",
       "2011-01-01 01:00:00       1        0           0        1  9.02  13.635   \n",
       "2011-01-01 02:00:00       1        0           0        1  9.02  13.635   \n",
       "2011-01-01 03:00:00       1        0           0        1  9.84  14.395   \n",
       "2011-01-01 04:00:00       1        0           0        1  9.84  14.395   \n",
       "\n",
       "                     humidity  windspeed  casual  registered  total  hour  \n",
       "datetime                                                                   \n",
       "2011-01-01 00:00:00        81        0.0       3          13     16     0  \n",
       "2011-01-01 01:00:00        80        0.0       8          32     40     1  \n",
       "2011-01-01 02:00:00        80        0.0       5          27     32     2  \n",
       "2011-01-01 03:00:00        75        0.0       3          10     13     3  \n",
       "2011-01-01 04:00:00        75        0.0       0           1      1     4  "
      ]
     },
     "execution_count": 8,
     "metadata": {},
     "output_type": "execute_result"
    }
   ],
   "source": [
    "bikes.head()"
   ]
  },
  {
   "cell_type": "code",
   "execution_count": 9,
   "metadata": {},
   "outputs": [
    {
     "data": {
      "text/html": [
       "<div>\n",
       "<style scoped>\n",
       "    .dataframe tbody tr th:only-of-type {\n",
       "        vertical-align: middle;\n",
       "    }\n",
       "\n",
       "    .dataframe tbody tr th {\n",
       "        vertical-align: top;\n",
       "    }\n",
       "\n",
       "    .dataframe thead th {\n",
       "        text-align: right;\n",
       "    }\n",
       "</style>\n",
       "<table border=\"1\" class=\"dataframe\">\n",
       "  <thead>\n",
       "    <tr style=\"text-align: right;\">\n",
       "      <th></th>\n",
       "      <th>season</th>\n",
       "      <th>holiday</th>\n",
       "      <th>workingday</th>\n",
       "      <th>weather</th>\n",
       "      <th>temp</th>\n",
       "      <th>atemp</th>\n",
       "      <th>humidity</th>\n",
       "      <th>windspeed</th>\n",
       "      <th>casual</th>\n",
       "      <th>registered</th>\n",
       "      <th>total</th>\n",
       "      <th>hour</th>\n",
       "    </tr>\n",
       "    <tr>\n",
       "      <th>datetime</th>\n",
       "      <th></th>\n",
       "      <th></th>\n",
       "      <th></th>\n",
       "      <th></th>\n",
       "      <th></th>\n",
       "      <th></th>\n",
       "      <th></th>\n",
       "      <th></th>\n",
       "      <th></th>\n",
       "      <th></th>\n",
       "      <th></th>\n",
       "      <th></th>\n",
       "    </tr>\n",
       "  </thead>\n",
       "  <tbody>\n",
       "    <tr>\n",
       "      <th>2012-12-19 19:00:00</th>\n",
       "      <td>4</td>\n",
       "      <td>0</td>\n",
       "      <td>1</td>\n",
       "      <td>1</td>\n",
       "      <td>15.58</td>\n",
       "      <td>19.695</td>\n",
       "      <td>50</td>\n",
       "      <td>26.0027</td>\n",
       "      <td>7</td>\n",
       "      <td>329</td>\n",
       "      <td>336</td>\n",
       "      <td>19</td>\n",
       "    </tr>\n",
       "    <tr>\n",
       "      <th>2012-12-19 20:00:00</th>\n",
       "      <td>4</td>\n",
       "      <td>0</td>\n",
       "      <td>1</td>\n",
       "      <td>1</td>\n",
       "      <td>14.76</td>\n",
       "      <td>17.425</td>\n",
       "      <td>57</td>\n",
       "      <td>15.0013</td>\n",
       "      <td>10</td>\n",
       "      <td>231</td>\n",
       "      <td>241</td>\n",
       "      <td>20</td>\n",
       "    </tr>\n",
       "    <tr>\n",
       "      <th>2012-12-19 21:00:00</th>\n",
       "      <td>4</td>\n",
       "      <td>0</td>\n",
       "      <td>1</td>\n",
       "      <td>1</td>\n",
       "      <td>13.94</td>\n",
       "      <td>15.910</td>\n",
       "      <td>61</td>\n",
       "      <td>15.0013</td>\n",
       "      <td>4</td>\n",
       "      <td>164</td>\n",
       "      <td>168</td>\n",
       "      <td>21</td>\n",
       "    </tr>\n",
       "    <tr>\n",
       "      <th>2012-12-19 22:00:00</th>\n",
       "      <td>4</td>\n",
       "      <td>0</td>\n",
       "      <td>1</td>\n",
       "      <td>1</td>\n",
       "      <td>13.94</td>\n",
       "      <td>17.425</td>\n",
       "      <td>61</td>\n",
       "      <td>6.0032</td>\n",
       "      <td>12</td>\n",
       "      <td>117</td>\n",
       "      <td>129</td>\n",
       "      <td>22</td>\n",
       "    </tr>\n",
       "    <tr>\n",
       "      <th>2012-12-19 23:00:00</th>\n",
       "      <td>4</td>\n",
       "      <td>0</td>\n",
       "      <td>1</td>\n",
       "      <td>1</td>\n",
       "      <td>13.12</td>\n",
       "      <td>16.665</td>\n",
       "      <td>66</td>\n",
       "      <td>8.9981</td>\n",
       "      <td>4</td>\n",
       "      <td>84</td>\n",
       "      <td>88</td>\n",
       "      <td>23</td>\n",
       "    </tr>\n",
       "  </tbody>\n",
       "</table>\n",
       "</div>"
      ],
      "text/plain": [
       "                     season  holiday  workingday  weather   temp   atemp  \\\n",
       "datetime                                                                   \n",
       "2012-12-19 19:00:00       4        0           1        1  15.58  19.695   \n",
       "2012-12-19 20:00:00       4        0           1        1  14.76  17.425   \n",
       "2012-12-19 21:00:00       4        0           1        1  13.94  15.910   \n",
       "2012-12-19 22:00:00       4        0           1        1  13.94  17.425   \n",
       "2012-12-19 23:00:00       4        0           1        1  13.12  16.665   \n",
       "\n",
       "                     humidity  windspeed  casual  registered  total  hour  \n",
       "datetime                                                                   \n",
       "2012-12-19 19:00:00        50    26.0027       7         329    336    19  \n",
       "2012-12-19 20:00:00        57    15.0013      10         231    241    20  \n",
       "2012-12-19 21:00:00        61    15.0013       4         164    168    21  \n",
       "2012-12-19 22:00:00        61     6.0032      12         117    129    22  \n",
       "2012-12-19 23:00:00        66     8.9981       4          84     88    23  "
      ]
     },
     "execution_count": 9,
     "metadata": {},
     "output_type": "execute_result"
    }
   ],
   "source": [
    "bikes.tail()"
   ]
  },
  {
   "cell_type": "markdown",
   "metadata": {},
   "source": [
    "- **hour** ranges from 0 (midnight) through 23 (11pm)\n",
    "- **workingday** is either 0 (weekend or holiday) or 1 (non-holiday weekday)"
   ]
  },
  {
   "cell_type": "markdown",
   "metadata": {},
   "source": [
    "# Exercise 7.1\n",
    "\n",
    "Run these two `groupby` statements and figure out what they tell you about the data."
   ]
  },
  {
   "cell_type": "code",
   "execution_count": 10,
   "metadata": {},
   "outputs": [
    {
     "data": {
      "text/plain": [
       "workingday\n",
       "0    188.506621\n",
       "1    193.011873\n",
       "Name: total, dtype: float64"
      ]
     },
     "execution_count": 10,
     "metadata": {},
     "output_type": "execute_result"
    }
   ],
   "source": [
    "# mean rentals for each value of \"workingday\"\n",
    "bikes.groupby('workingday').total.mean()"
   ]
  },
  {
   "cell_type": "markdown",
   "metadata": {},
   "source": [
    "# Se rentan mas ciclas cuando es día de trabajo. Lo que nos indica que la renta se utiliza para ir a trabajar y para volver a casa l uego de la jornada laboral."
   ]
  },
  {
   "cell_type": "code",
   "execution_count": 11,
   "metadata": {},
   "outputs": [
    {
     "data": {
      "text/plain": [
       "hour\n",
       "0      55.138462\n",
       "1      33.859031\n",
       "2      22.899554\n",
       "3      11.757506\n",
       "4       6.407240\n",
       "5      19.767699\n",
       "6      76.259341\n",
       "7     213.116484\n",
       "8     362.769231\n",
       "9     221.780220\n",
       "10    175.092308\n",
       "11    210.674725\n",
       "12    256.508772\n",
       "13    257.787281\n",
       "14    243.442982\n",
       "15    254.298246\n",
       "16    316.372807\n",
       "17    468.765351\n",
       "18    430.859649\n",
       "19    315.278509\n",
       "20    228.517544\n",
       "21    173.370614\n",
       "22    133.576754\n",
       "23     89.508772\n",
       "Name: total, dtype: float64"
      ]
     },
     "execution_count": 11,
     "metadata": {},
     "output_type": "execute_result"
    }
   ],
   "source": [
    "# mean rentals for each value of \"hour\"\n",
    "bikes.groupby('hour').total.mean()"
   ]
  },
  {
   "cell_type": "markdown",
   "metadata": {},
   "source": [
    "Las hora 4:00pm y 5:00pm son las mas frecuentes, lo que confirma las aseveraciones anteriores, las personas tienden a rentar para volver a casa luego de la jornada laboral. Tambien resaltan la hora 8:00am, es decir al salir hacia el trabajo."
   ]
  },
  {
   "cell_type": "markdown",
   "metadata": {},
   "source": [
    "# Exercise 7.2\n",
    "\n",
    "Run this plotting code, and make sure you understand the output. Then, separate this plot into two separate plots conditioned on \"workingday\". (In other words, one plot should display the hourly trend for \"workingday=0\", and the other should display the hourly trend for \"workingday=1\".)"
   ]
  },
  {
   "cell_type": "code",
   "execution_count": 12,
   "metadata": {},
   "outputs": [
    {
     "data": {
      "text/plain": [
       "<matplotlib.axes._subplots.AxesSubplot at 0x2807168abe0>"
      ]
     },
     "execution_count": 12,
     "metadata": {},
     "output_type": "execute_result"
    },
    {
     "data": {
      "image/png": "[encoded data removed]",
      "text/plain": [
       "<Figure size 432x288 with 1 Axes>"
      ]
     },
     "metadata": {
      "needs_background": "light"
     },
     "output_type": "display_data"
    }
   ],
   "source": [
    "# mean rentals for each value of \"hour\"\n",
    "bikes.groupby('hour').total.mean().plot()"
   ]
  },
  {
   "cell_type": "markdown",
   "metadata": {},
   "source": [
    "Plot for workingday == 0 and workingday == 1"
   ]
  },
  {
   "cell_type": "markdown",
   "metadata": {},
   "source": [
    "La renta de ciclas se da prioritariamente al salir y al volver del trabajo. Entre 7-9 de la mañana y entre3-6de la tarde respectivamente."
   ]
  },
  {
   "cell_type": "code",
   "execution_count": 13,
   "metadata": {},
   "outputs": [
    {
     "data": {
      "text/plain": [
       "<matplotlib.axes._subplots.AxesSubplot at 0x280715b1828>"
      ]
     },
     "execution_count": 13,
     "metadata": {},
     "output_type": "execute_result"
    },
    {
     "data": {
      "image/png": "[encoded data removed]",
      "text/plain": [
       "<Figure size 432x288 with 1 Axes>"
      ]
     },
     "metadata": {
      "needs_background": "light"
     },
     "output_type": "display_data"
    }
   ],
   "source": [
    "# hourly rental trend for \"workingday=0\"\n",
    "bikes[bikes.workingday==0].groupby('hour').total.mean().plot()"
   ]
  },
  {
   "cell_type": "code",
   "execution_count": 14,
   "metadata": {},
   "outputs": [
    {
     "data": {
      "text/plain": [
       "<matplotlib.axes._subplots.AxesSubplot at 0x2807160e390>"
      ]
     },
     "execution_count": 14,
     "metadata": {},
     "output_type": "execute_result"
    },
    {
     "data": {
      "image/png": "[encoded data removed]",
      "text/plain": [
       "<Figure size 432x288 with 1 Axes>"
      ]
     },
     "metadata": {
      "needs_background": "light"
     },
     "output_type": "display_data"
    }
   ],
   "source": [
    "# hourly rental trend for \"workingday=1\"\n",
    "bikes[bikes.workingday==1].groupby('hour').total.mean().plot()"
   ]
  },
  {
   "cell_type": "code",
   "execution_count": 15,
   "metadata": {},
   "outputs": [
    {
     "data": {
      "text/plain": [
       "<matplotlib.axes._subplots.AxesSubplot at 0x2807166f6a0>"
      ]
     },
     "execution_count": 15,
     "metadata": {},
     "output_type": "execute_result"
    },
    {
     "data": {
      "image/png": "[encoded data removed]",
      "text/plain": [
       "<Figure size 432x288 with 1 Axes>"
      ]
     },
     "metadata": {
      "needs_background": "light"
     },
     "output_type": "display_data"
    }
   ],
   "source": [
    "# combine the two plots\n",
    "bikes.groupby(['hour', 'workingday']).total.mean().unstack().plot()"
   ]
  },
  {
   "cell_type": "markdown",
   "metadata": {},
   "source": [
    "Write about your findings"
   ]
  },
  {
   "cell_type": "markdown",
   "metadata": {},
   "source": [
    "# Exercise 7.3\n",
    "\n",
    "Fit a linear regression model to the entire dataset, using \"total\" as the response and \"hour\" and \"workingday\" as the only features. Then, print the coefficients and interpret them. What are the limitations of linear regression in this instance?"
   ]
  },
  {
   "cell_type": "code",
   "execution_count": 16,
   "metadata": {},
   "outputs": [
    {
     "data": {
      "image/png": "[encoded data removed]",
      "text/plain": [
       "<Figure size 432x288 with 1 Axes>"
      ]
     },
     "metadata": {
      "needs_background": "light"
     },
     "output_type": "display_data"
    }
   ],
   "source": [
    "import matplotlib.pyplot as plt\n",
    "from sklearn.linear_model import LinearRegression\n",
    "from sklearn.model_selection import train_test_split\n",
    "X_train, X_test, y_train, y_test = train_test_split(bikes[['hour','workingday']], bikes['total'], test_size=0.3)\n",
    "linreg = LinearRegression()\n",
    "linreg.fit(X_train,y_train)\n",
    "linreg.coef_\n",
    "pred=linreg.predict(X_test)\n",
    "\n",
    "plt.plot(y_test, pred, 'ro')\n",
    "plt.xlabel(\"Cantidad Real\")\n",
    "plt.ylabel(\"Cantidad predicha\")\n",
    "plt.title(\"Predicción vs Realidad\")\n",
    "plt.show()"
   ]
  },
  {
   "cell_type": "code",
   "execution_count": 17,
   "metadata": {},
   "outputs": [
    {
     "data": {
      "text/plain": [
       "<function matplotlib.pyplot.show(*args, **kw)>"
      ]
     },
     "execution_count": 17,
     "metadata": {},
     "output_type": "execute_result"
    },
    {
     "data": {
      "image/png": "[encoded data removed]",
      "text/plain": [
       "<Figure size 432x288 with 1 Axes>"
      ]
     },
     "metadata": {
      "needs_background": "light"
     },
     "output_type": "display_data"
    }
   ],
   "source": [
    "bikes[bikes.workingday==0].groupby('hour').total.mean().plot()\n",
    "bikes[bikes.workingday==1].groupby('hour').total.mean().plot()\n",
    "plt.plot(X_test, pred, color='green')\n",
    "plt.show"
   ]
  },
  {
   "cell_type": "markdown",
   "metadata": {},
   "source": [
    "# Exercice 7.4\n",
    "\n",
    "Create a Decision Tree to forecast \"total\" by manually iterating over the features \"hour\" and \"workingday\". The algorithm must at least have 6 end nodes."
   ]
  },
  {
   "cell_type": "code",
   "execution_count": 20,
   "metadata": {},
   "outputs": [],
   "source": [
    "# Nuevo dataframe con las variables requeridas en el modelo\n",
    "datos=bikes[['workingday','hour','total']]\n",
    "datos.reset_index(inplace=True,drop=True)"
   ]
  },
  {
   "cell_type": "code",
   "execution_count": 21,
   "metadata": {},
   "outputs": [],
   "source": [
    "#Se crea una función para seleccionar la mejor rama\n",
    "def minor_branch(train,hora,workingday):\n",
    "    branch1=0\n",
    "    branch2=0\n",
    "    def error_hour(train,hora):\n",
    "        train['pred'] = train.loc[train.hour<hora, 'total'].mean()\n",
    "        train.loc[train.hour>=hora, 'pred'] = train.loc[train.hour>=hora, 'total'].mean()\n",
    "        minhor = ((((train['total'] - train['pred'])**2).mean()) ** 0.5)\n",
    "        for hora in train.hour.unique():\n",
    "            train['pred'] = train.loc[train.hour<hora, 'total'].mean()\n",
    "            train.loc[train.hour>=hora, 'pred'] = train.loc[train.hour>=hora, 'total'].mean()\n",
    "            minhor1 = ((((train['total'] - train['pred'])**2).mean()) ** 0.5)\n",
    "            if minhor1 <= minhor:\n",
    "                minhor = minhor1\n",
    "                valor = hora\n",
    "                rama = 0\n",
    "        return minhor,valor,rama\n",
    "    def error_workingday(train,workingday):\n",
    "        train['pred'] = train.loc[train.workingday<workingday, 'total'].mean()\n",
    "        train.loc[train.workingday>=workingday, 'pred'] = train.loc[train.workingday>=workingday, 'total'].mean()\n",
    "        minday = ((((train['total'] - train['pred'])**2).mean()) ** 0.5)\n",
    "        for workingday in datos.workingday.unique():\n",
    "            train['pred'] = train.loc[train.workingday<workingday, 'total'].mean()\n",
    "            train.loc[train.workingday>=workingday, 'pred'] = train.loc[train.workingday>=workingday, 'total'].mean()\n",
    "            minday1 = ((((train['total'] - train['pred'])**2).mean()) ** 0.5)\n",
    "            if minday1 <= minday:\n",
    "                valor2 = workingday\n",
    "                minday = minday1\n",
    "                rama2 = 1\n",
    "        return minday,valor2,rama2\n",
    "    branch1 = error_hour(train,hora)\n",
    "    branch2 = error_workingday(train,workingday)\n",
    "    \n",
    "    if branch1[0] <= branch2[0]:\n",
    "        return branch1[1],branch1[2],branch1[0]\n",
    "    else:\n",
    "        return branch2[1],branch2[2],branch1[0]"
   ]
  },
  {
   "cell_type": "code",
   "execution_count": 22,
   "metadata": {},
   "outputs": [],
   "source": [
    "\n",
    "#Se crean cantidad de subset de datos requeridos de acuerdo a la produndidad del arbol \n",
    "#y variables explicativas del modelo.\n",
    "a=10 #Profundidad del arbol\n",
    "b=2  #Cantidad de variables explicativas\n",
    "c=0\n",
    "d=0\n",
    "r1='r1'\n",
    "r2='r2'\n",
    "for x in range(1,a+1):\n",
    "    c=(b**(x-1))\n",
    "    d=c+d"
   ]
  },
  {
   "cell_type": "code",
   "execution_count": 23,
   "metadata": {},
   "outputs": [],
   "source": [
    "#Se crean nombres de las ramas del arbol\n",
    "pre = 'datos'\n",
    "suf1 = '_izq'\n",
    "suf2 = '_der'\n",
    "\n",
    "ramas = pd.Series(index=np.arange(d))\n",
    "ramas[0]=pre\n",
    "a=0\n",
    "for i in range(1,d):\n",
    "    ramas[i+a]=str(ramas[i-1])+suf1\n",
    "    ramas[i+a+1]=str(ramas[i-1])+suf2\n",
    "    a=a+1"
   ]
  },
  {
   "cell_type": "code",
   "execution_count": 24,
   "metadata": {},
   "outputs": [
    {
     "data": {
      "text/html": [
       "<div>\n",
       "<style scoped>\n",
       "    .dataframe tbody tr th:only-of-type {\n",
       "        vertical-align: middle;\n",
       "    }\n",
       "\n",
       "    .dataframe tbody tr th {\n",
       "        vertical-align: top;\n",
       "    }\n",
       "\n",
       "    .dataframe thead th {\n",
       "        text-align: right;\n",
       "    }\n",
       "</style>\n",
       "<table border=\"1\" class=\"dataframe\">\n",
       "  <thead>\n",
       "    <tr style=\"text-align: right;\">\n",
       "      <th></th>\n",
       "      <th>Rama_Datos</th>\n",
       "      <th>Fuente</th>\n",
       "      <th>Valor_Particion</th>\n",
       "      <th>Signo</th>\n",
       "      <th>Min_Error</th>\n",
       "      <th>Cantidad_Reg</th>\n",
       "    </tr>\n",
       "  </thead>\n",
       "  <tbody>\n",
       "    <tr>\n",
       "      <th>0</th>\n",
       "      <td>datos</td>\n",
       "      <td>0</td>\n",
       "      <td>0</td>\n",
       "      <td>0</td>\n",
       "      <td>0</td>\n",
       "      <td>10886</td>\n",
       "    </tr>\n",
       "    <tr>\n",
       "      <th>1</th>\n",
       "      <td>datos_izq</td>\n",
       "      <td>hour</td>\n",
       "      <td>7</td>\n",
       "      <td>&lt;</td>\n",
       "      <td>150.23</td>\n",
       "      <td>3139</td>\n",
       "    </tr>\n",
       "    <tr>\n",
       "      <th>2</th>\n",
       "      <td>datos_der</td>\n",
       "      <td>hour</td>\n",
       "      <td>7</td>\n",
       "      <td>&gt;=</td>\n",
       "      <td>150.23</td>\n",
       "      <td>7747</td>\n",
       "    </tr>\n",
       "    <tr>\n",
       "      <th>3</th>\n",
       "      <td>datos_izq_izq</td>\n",
       "      <td>hour</td>\n",
       "      <td>6</td>\n",
       "      <td>&lt;</td>\n",
       "      <td>35.24</td>\n",
       "      <td>2684</td>\n",
       "    </tr>\n",
       "    <tr>\n",
       "      <th>4</th>\n",
       "      <td>datos_izq_der</td>\n",
       "      <td>hour</td>\n",
       "      <td>6</td>\n",
       "      <td>&gt;=</td>\n",
       "      <td>35.24</td>\n",
       "      <td>455</td>\n",
       "    </tr>\n",
       "    <tr>\n",
       "      <th>5</th>\n",
       "      <td>datos_der_izq</td>\n",
       "      <td>hour</td>\n",
       "      <td>21</td>\n",
       "      <td>&lt;</td>\n",
       "      <td>166.7</td>\n",
       "      <td>6379</td>\n",
       "    </tr>\n",
       "    <tr>\n",
       "      <th>6</th>\n",
       "      <td>datos_der_der</td>\n",
       "      <td>hour</td>\n",
       "      <td>21</td>\n",
       "      <td>&gt;=</td>\n",
       "      <td>166.7</td>\n",
       "      <td>1368</td>\n",
       "    </tr>\n",
       "    <tr>\n",
       "      <th>7</th>\n",
       "      <td>datos_izq_izq_izq</td>\n",
       "      <td>hour</td>\n",
       "      <td>2</td>\n",
       "      <td>&lt;</td>\n",
       "      <td>27.47</td>\n",
       "      <td>909</td>\n",
       "    </tr>\n",
       "    <tr>\n",
       "      <th>8</th>\n",
       "      <td>datos_izq_izq_der</td>\n",
       "      <td>hour</td>\n",
       "      <td>2</td>\n",
       "      <td>&gt;=</td>\n",
       "      <td>27.47</td>\n",
       "      <td>1775</td>\n",
       "    </tr>\n",
       "    <tr>\n",
       "      <th>9</th>\n",
       "      <td>datos_izq_der_izq</td>\n",
       "      <td>workingday</td>\n",
       "      <td>1</td>\n",
       "      <td>&lt;</td>\n",
       "      <td>54.69</td>\n",
       "      <td>0</td>\n",
       "    </tr>\n",
       "    <tr>\n",
       "      <th>10</th>\n",
       "      <td>datos_izq_der_der</td>\n",
       "      <td>workingday</td>\n",
       "      <td>1</td>\n",
       "      <td>&gt;=</td>\n",
       "      <td>54.69</td>\n",
       "      <td>455</td>\n",
       "    </tr>\n",
       "    <tr>\n",
       "      <th>11</th>\n",
       "      <td>datos_der_izq_izq</td>\n",
       "      <td>hour</td>\n",
       "      <td>16</td>\n",
       "      <td>&lt;</td>\n",
       "      <td>172.43</td>\n",
       "      <td>4099</td>\n",
       "    </tr>\n",
       "    <tr>\n",
       "      <th>12</th>\n",
       "      <td>datos_der_izq_der</td>\n",
       "      <td>hour</td>\n",
       "      <td>16</td>\n",
       "      <td>&gt;=</td>\n",
       "      <td>172.43</td>\n",
       "      <td>2280</td>\n",
       "    </tr>\n",
       "    <tr>\n",
       "      <th>13</th>\n",
       "      <td>datos_der_der_izq</td>\n",
       "      <td>hour</td>\n",
       "      <td>23</td>\n",
       "      <td>&lt;</td>\n",
       "      <td>72.99</td>\n",
       "      <td>912</td>\n",
       "    </tr>\n",
       "    <tr>\n",
       "      <th>14</th>\n",
       "      <td>datos_der_der_der</td>\n",
       "      <td>hour</td>\n",
       "      <td>23</td>\n",
       "      <td>&gt;=</td>\n",
       "      <td>72.99</td>\n",
       "      <td>456</td>\n",
       "    </tr>\n",
       "    <tr>\n",
       "      <th>15</th>\n",
       "      <td>datos_izq_izq_izq_izq</td>\n",
       "      <td>workingday</td>\n",
       "      <td>1</td>\n",
       "      <td>&lt;</td>\n",
       "      <td>39.12</td>\n",
       "      <td>455</td>\n",
       "    </tr>\n",
       "    <tr>\n",
       "      <th>16</th>\n",
       "      <td>datos_izq_izq_izq_der</td>\n",
       "      <td>workingday</td>\n",
       "      <td>1</td>\n",
       "      <td>&gt;=</td>\n",
       "      <td>39.12</td>\n",
       "      <td>454</td>\n",
       "    </tr>\n",
       "    <tr>\n",
       "      <th>17</th>\n",
       "      <td>datos_izq_izq_der_izq</td>\n",
       "      <td>workingday</td>\n",
       "      <td>1</td>\n",
       "      <td>&lt;</td>\n",
       "      <td>16.72</td>\n",
       "      <td>0</td>\n",
       "    </tr>\n",
       "    <tr>\n",
       "      <th>18</th>\n",
       "      <td>datos_izq_izq_der_der</td>\n",
       "      <td>workingday</td>\n",
       "      <td>1</td>\n",
       "      <td>&gt;=</td>\n",
       "      <td>16.72</td>\n",
       "      <td>1775</td>\n",
       "    </tr>\n",
       "    <tr>\n",
       "      <th>19</th>\n",
       "      <td>datos_izq_der_izq_izq</td>\n",
       "      <td>hour</td>\n",
       "      <td>6</td>\n",
       "      <td>&lt;</td>\n",
       "      <td>18.15</td>\n",
       "      <td>0</td>\n",
       "    </tr>\n",
       "    <tr>\n",
       "      <th>20</th>\n",
       "      <td>datos_izq_der_izq_der</td>\n",
       "      <td>hour</td>\n",
       "      <td>6</td>\n",
       "      <td>&gt;=</td>\n",
       "      <td>18.15</td>\n",
       "      <td>145</td>\n",
       "    </tr>\n",
       "    <tr>\n",
       "      <th>21</th>\n",
       "      <td>datos_izq_der_der_izq</td>\n",
       "      <td>hour</td>\n",
       "      <td>6</td>\n",
       "      <td>&lt;</td>\n",
       "      <td>45.41</td>\n",
       "      <td>0</td>\n",
       "    </tr>\n",
       "    <tr>\n",
       "      <th>22</th>\n",
       "      <td>datos_izq_der_der_der</td>\n",
       "      <td>hour</td>\n",
       "      <td>6</td>\n",
       "      <td>&gt;=</td>\n",
       "      <td>45.41</td>\n",
       "      <td>310</td>\n",
       "    </tr>\n",
       "    <tr>\n",
       "      <th>23</th>\n",
       "      <td>datos_der_izq_izq_izq</td>\n",
       "      <td>hour</td>\n",
       "      <td>9</td>\n",
       "      <td>&lt;</td>\n",
       "      <td>154.95</td>\n",
       "      <td>910</td>\n",
       "    </tr>\n",
       "    <tr>\n",
       "      <th>24</th>\n",
       "      <td>datos_der_izq_izq_der</td>\n",
       "      <td>hour</td>\n",
       "      <td>9</td>\n",
       "      <td>&gt;=</td>\n",
       "      <td>154.95</td>\n",
       "      <td>3189</td>\n",
       "    </tr>\n",
       "    <tr>\n",
       "      <th>25</th>\n",
       "      <td>datos_der_izq_der_izq</td>\n",
       "      <td>hour</td>\n",
       "      <td>19</td>\n",
       "      <td>&lt;</td>\n",
       "      <td>186.41</td>\n",
       "      <td>1368</td>\n",
       "    </tr>\n",
       "    <tr>\n",
       "      <th>26</th>\n",
       "      <td>datos_der_izq_der_der</td>\n",
       "      <td>hour</td>\n",
       "      <td>19</td>\n",
       "      <td>&gt;=</td>\n",
       "      <td>186.41</td>\n",
       "      <td>912</td>\n",
       "    </tr>\n",
       "    <tr>\n",
       "      <th>27</th>\n",
       "      <td>datos_der_der_izq_izq</td>\n",
       "      <td>hour</td>\n",
       "      <td>22</td>\n",
       "      <td>&lt;</td>\n",
       "      <td>79.15</td>\n",
       "      <td>456</td>\n",
       "    </tr>\n",
       "    <tr>\n",
       "      <th>28</th>\n",
       "      <td>datos_der_der_izq_der</td>\n",
       "      <td>hour</td>\n",
       "      <td>22</td>\n",
       "      <td>&gt;=</td>\n",
       "      <td>79.15</td>\n",
       "      <td>456</td>\n",
       "    </tr>\n",
       "    <tr>\n",
       "      <th>29</th>\n",
       "      <td>datos_der_der_der_izq</td>\n",
       "      <td>workingday</td>\n",
       "      <td>1</td>\n",
       "      <td>&lt;</td>\n",
       "      <td>51.58</td>\n",
       "      <td>0</td>\n",
       "    </tr>\n",
       "    <tr>\n",
       "      <th>30</th>\n",
       "      <td>datos_der_der_der_der</td>\n",
       "      <td>workingday</td>\n",
       "      <td>1</td>\n",
       "      <td>&gt;=</td>\n",
       "      <td>51.58</td>\n",
       "      <td>456</td>\n",
       "    </tr>\n",
       "    <tr>\n",
       "      <th>31</th>\n",
       "      <td>datos_izq_izq_izq_izq_izq</td>\n",
       "      <td>hour</td>\n",
       "      <td>1</td>\n",
       "      <td>&lt;</td>\n",
       "      <td>41.17</td>\n",
       "      <td>145</td>\n",
       "    </tr>\n",
       "    <tr>\n",
       "      <th>32</th>\n",
       "      <td>datos_izq_izq_izq_izq_der</td>\n",
       "      <td>hour</td>\n",
       "      <td>1</td>\n",
       "      <td>&gt;=</td>\n",
       "      <td>41.17</td>\n",
       "      <td>145</td>\n",
       "    </tr>\n",
       "    <tr>\n",
       "      <th>33</th>\n",
       "      <td>datos_izq_izq_izq_der_izq</td>\n",
       "      <td>hour</td>\n",
       "      <td>1</td>\n",
       "      <td>&lt;</td>\n",
       "      <td>20.55</td>\n",
       "      <td>310</td>\n",
       "    </tr>\n",
       "    <tr>\n",
       "      <th>34</th>\n",
       "      <td>datos_izq_izq_izq_der_der</td>\n",
       "      <td>hour</td>\n",
       "      <td>1</td>\n",
       "      <td>&gt;=</td>\n",
       "      <td>20.55</td>\n",
       "      <td>309</td>\n",
       "    </tr>\n",
       "    <tr>\n",
       "      <th>35</th>\n",
       "      <td>datos_izq_izq_der_izq_izq</td>\n",
       "      <td>hour</td>\n",
       "      <td>3</td>\n",
       "      <td>&lt;</td>\n",
       "      <td>16.38</td>\n",
       "      <td>143</td>\n",
       "    </tr>\n",
       "    <tr>\n",
       "      <th>36</th>\n",
       "      <td>datos_izq_izq_der_izq_der</td>\n",
       "      <td>hour</td>\n",
       "      <td>3</td>\n",
       "      <td>&gt;=</td>\n",
       "      <td>16.38</td>\n",
       "      <td>431</td>\n",
       "    </tr>\n",
       "    <tr>\n",
       "      <th>37</th>\n",
       "      <td>datos_izq_izq_der_der_izq</td>\n",
       "      <td>hour</td>\n",
       "      <td>5</td>\n",
       "      <td>&lt;</td>\n",
       "      <td>7.42</td>\n",
       "      <td>891</td>\n",
       "    </tr>\n",
       "    <tr>\n",
       "      <th>38</th>\n",
       "      <td>datos_izq_izq_der_der_der</td>\n",
       "      <td>hour</td>\n",
       "      <td>5</td>\n",
       "      <td>&gt;=</td>\n",
       "      <td>7.42</td>\n",
       "      <td>310</td>\n",
       "    </tr>\n",
       "  </tbody>\n",
       "</table>\n",
       "</div>"
      ],
      "text/plain": [
       "                   Rama_Datos      Fuente Valor_Particion Signo Min_Error  \\\n",
       "0                       datos           0               0     0         0   \n",
       "1                   datos_izq        hour               7     <    150.23   \n",
       "2                   datos_der        hour               7    >=    150.23   \n",
       "3               datos_izq_izq        hour               6     <     35.24   \n",
       "4               datos_izq_der        hour               6    >=     35.24   \n",
       "5               datos_der_izq        hour              21     <     166.7   \n",
       "6               datos_der_der        hour              21    >=     166.7   \n",
       "7           datos_izq_izq_izq        hour               2     <     27.47   \n",
       "8           datos_izq_izq_der        hour               2    >=     27.47   \n",
       "9           datos_izq_der_izq  workingday               1     <     54.69   \n",
       "10          datos_izq_der_der  workingday               1    >=     54.69   \n",
       "11          datos_der_izq_izq        hour              16     <    172.43   \n",
       "12          datos_der_izq_der        hour              16    >=    172.43   \n",
       "13          datos_der_der_izq        hour              23     <     72.99   \n",
       "14          datos_der_der_der        hour              23    >=     72.99   \n",
       "15      datos_izq_izq_izq_izq  workingday               1     <     39.12   \n",
       "16      datos_izq_izq_izq_der  workingday               1    >=     39.12   \n",
       "17      datos_izq_izq_der_izq  workingday               1     <     16.72   \n",
       "18      datos_izq_izq_der_der  workingday               1    >=     16.72   \n",
       "19      datos_izq_der_izq_izq        hour               6     <     18.15   \n",
       "20      datos_izq_der_izq_der        hour               6    >=     18.15   \n",
       "21      datos_izq_der_der_izq        hour               6     <     45.41   \n",
       "22      datos_izq_der_der_der        hour               6    >=     45.41   \n",
       "23      datos_der_izq_izq_izq        hour               9     <    154.95   \n",
       "24      datos_der_izq_izq_der        hour               9    >=    154.95   \n",
       "25      datos_der_izq_der_izq        hour              19     <    186.41   \n",
       "26      datos_der_izq_der_der        hour              19    >=    186.41   \n",
       "27      datos_der_der_izq_izq        hour              22     <     79.15   \n",
       "28      datos_der_der_izq_der        hour              22    >=     79.15   \n",
       "29      datos_der_der_der_izq  workingday               1     <     51.58   \n",
       "30      datos_der_der_der_der  workingday               1    >=     51.58   \n",
       "31  datos_izq_izq_izq_izq_izq        hour               1     <     41.17   \n",
       "32  datos_izq_izq_izq_izq_der        hour               1    >=     41.17   \n",
       "33  datos_izq_izq_izq_der_izq        hour               1     <     20.55   \n",
       "34  datos_izq_izq_izq_der_der        hour               1    >=     20.55   \n",
       "35  datos_izq_izq_der_izq_izq        hour               3     <     16.38   \n",
       "36  datos_izq_izq_der_izq_der        hour               3    >=     16.38   \n",
       "37  datos_izq_izq_der_der_izq        hour               5     <      7.42   \n",
       "38  datos_izq_izq_der_der_der        hour               5    >=      7.42   \n",
       "\n",
       "   Cantidad_Reg  \n",
       "0         10886  \n",
       "1          3139  \n",
       "2          7747  \n",
       "3          2684  \n",
       "4           455  \n",
       "5          6379  \n",
       "6          1368  \n",
       "7           909  \n",
       "8          1775  \n",
       "9             0  \n",
       "10          455  \n",
       "11         4099  \n",
       "12         2280  \n",
       "13          912  \n",
       "14          456  \n",
       "15          455  \n",
       "16          454  \n",
       "17            0  \n",
       "18         1775  \n",
       "19            0  \n",
       "20          145  \n",
       "21            0  \n",
       "22          310  \n",
       "23          910  \n",
       "24         3189  \n",
       "25         1368  \n",
       "26          912  \n",
       "27          456  \n",
       "28          456  \n",
       "29            0  \n",
       "30          456  \n",
       "31          145  \n",
       "32          145  \n",
       "33          310  \n",
       "34          309  \n",
       "35          143  \n",
       "36          431  \n",
       "37          891  \n",
       "38          310  "
      ]
     },
     "execution_count": 24,
     "metadata": {},
     "output_type": "execute_result"
    }
   ],
   "source": [
    "#Se definen y crean las ramas del arbol seleccionando las ramas con el criterio de menor mínimo error\n",
    "results = pd.DataFrame(index=range(100),columns=['Rama_Datos','Fuente','Valor_Particion','Signo','Min_Error','Cantidad_Reg'])\n",
    "\n",
    "branchs={}\n",
    "\n",
    "branchs[0]=pd.DataFrame(datos.copy(),columns=datos.columns)\n",
    "results['Rama_Datos'].iloc[0]=ramas[0]\n",
    "results['Fuente'].iloc[0]=0\n",
    "results['Valor_Particion'].iloc[0]=0\n",
    "results['Signo'].iloc[0]=0\n",
    "results['Min_Error'].iloc[0]=0\n",
    "results['Cantidad_Reg'].iloc[0]=len(branchs[0])\n",
    "a=1\n",
    "for i in range(19):\n",
    "    value =minor_branch(branchs[i],branchs[i].hour,branchs[i].workingday)\n",
    "    if value[1]==0:\n",
    "        branchs[i+a]=pd.DataFrame(branchs[i].loc[branchs[i].hour<value[0]].copy(),columns=datos.columns)\n",
    "        branchs[i+a+1]=pd.DataFrame(branchs[i].loc[branchs[i].hour>=value[0]].copy(),columns=datos.columns)\n",
    "        fuente = 'hour'\n",
    "        results['Rama_Datos'].iloc[i+a]=ramas[i+a]\n",
    "        results['Rama_Datos'].iloc[i+a+1]=ramas[i+a+1]\n",
    "        results['Fuente'].iloc[i+a]=fuente\n",
    "        results['Fuente'].iloc[i+a+1]=fuente\n",
    "        results['Valor_Particion'].iloc[i+a]=value[0]\n",
    "        results['Valor_Particion'].iloc[i+a+1]=value[0]\n",
    "        results['Signo'].iloc[i+a]='<'\n",
    "        results['Signo'].iloc[i+a+1]='>='\n",
    "        results['Min_Error'].iloc[i+a]=round(value[2],2)\n",
    "        results['Min_Error'].iloc[i+a+1]=round(value[2],2)\n",
    "        results['Cantidad_Reg'].iloc[i+a]=len(branchs[i].loc[branchs[i].hour<value[0]])\n",
    "        results['Cantidad_Reg'].iloc[i+a+1]=len(branchs[i].loc[branchs[i].hour>=value[0]])\n",
    "\n",
    "    else:\n",
    "        branchs[i+a]=pd.DataFrame(branchs[i].loc[branchs[i].workingday<value[0]].copy(),columns=datos.columns)\n",
    "        branchs[i+a+1]=pd.DataFrame(branchs[i].loc[branchs[i].workingday>=value[0]].copy(),columns=datos.columns)\n",
    "        fuente='workingday'\n",
    "        results['Rama_Datos'].iloc[i+a]=ramas[i+a]\n",
    "        results['Rama_Datos'].iloc[i+a+1]=ramas[i+a+1]\n",
    "        results['Fuente'].iloc[i+a]=fuente\n",
    "        results['Fuente'].iloc[i+a+1]=fuente\n",
    "        results['Valor_Particion'].iloc[i+a]=value[0]\n",
    "        results['Valor_Particion'].iloc[i+a+1]=value[0]\n",
    "        results['Signo'].iloc[i+a]='<'\n",
    "        results['Signo'].iloc[i+a+1]='>='\n",
    "        results['Min_Error'].iloc[i+a]=round(value[2],2)\n",
    "        results['Min_Error'].iloc[i+a+1]=round(value[2],2)\n",
    "        results['Cantidad_Reg'].iloc[i+a]=len(branchs[i].loc[branchs[i].hour<value[0]])\n",
    "        results['Cantidad_Reg'].iloc[i+a+1]=len(branchs[i].loc[branchs[i].hour>=value[0]])\n",
    "\n",
    "    a=a+1\n",
    "results.head(39)"
   ]
  },
  {
   "cell_type": "code",
   "execution_count": 25,
   "metadata": {},
   "outputs": [
    {
     "data": {
      "text/plain": [
       "<function matplotlib.pyplot.show(*args, **kw)>"
      ]
     },
     "execution_count": 25,
     "metadata": {},
     "output_type": "execute_result"
    },
    {
     "data": {
      "image/png": "[encoded data removed]",
      "text/plain": [
       "<Figure size 432x288 with 1 Axes>"
      ]
     },
     "metadata": {
      "needs_background": "light"
     },
     "output_type": "display_data"
    }
   ],
   "source": [
    "r=results.head(39)\n",
    "r=r.sort_values(by='Min_Error', ascending=False)\n",
    "plt.plot(range(39),r.Min_Error , color='green')\n",
    "plt.ylabel('MSE')\n",
    "plt.xlabel('Iteration')\n",
    "plt.show"
   ]
  },
  {
   "cell_type": "markdown",
   "metadata": {},
   "source": [
    "# Exercise 7.5\n",
    "\n",
    "Train a Decision Tree using scikit-learn. Comment about the performance of the models."
   ]
  },
  {
   "cell_type": "code",
   "execution_count": 26,
   "metadata": {},
   "outputs": [
    {
     "data": {
      "text/plain": [
       "DecisionTreeRegressor(criterion='mse', max_depth=None, max_features=None,\n",
       "           max_leaf_nodes=None, min_impurity_decrease=0.0,\n",
       "           min_impurity_split=None, min_samples_leaf=1,\n",
       "           min_samples_split=2, min_weight_fraction_leaf=0.0,\n",
       "           presort=False, random_state=1, splitter='best')"
      ]
     },
     "execution_count": 26,
     "metadata": {},
     "output_type": "execute_result"
    }
   ],
   "source": [
    "# instantiate a DecisionTreeRegressor (with random_state=1)\n",
    "from sklearn.tree import DecisionTreeRegressor\n",
    "treereg = DecisionTreeRegressor(random_state=1)\n",
    "treereg"
   ]
  },
  {
   "cell_type": "code",
   "execution_count": 27,
   "metadata": {},
   "outputs": [
    {
     "data": {
      "text/plain": [
       "105.19244713068338"
      ]
     },
     "execution_count": 27,
     "metadata": {},
     "output_type": "execute_result"
    }
   ],
   "source": [
    "# use leave-one-out cross-validation (LOOCV) to estimate the RMSE for this model\n",
    "import numpy as np\n",
    "from sklearn.model_selection import cross_val_score\n",
    "scores = cross_val_score(treereg, bikes[['workingday','hour']], bikes['total'], cv=14, scoring='neg_mean_squared_error')\n",
    "np.mean(np.sqrt(-scores))"
   ]
  },
  {
   "cell_type": "code",
   "execution_count": 28,
   "metadata": {},
   "outputs": [],
   "source": [
    "# list of values to try\n",
    "max_depth_range = range(1, 20)\n",
    "\n",
    "# list to store the average RMSE for each value of max_depth\n",
    "RMSE_scores = []\n",
    "\n",
    "# use LOOCV with each value of max_depth\n",
    "for depth in max_depth_range:\n",
    "    treereg = DecisionTreeRegressor(max_depth=depth, random_state=1)\n",
    "    MSE_scores = cross_val_score(treereg, bikes[['workingday','hour']], bikes['total'], cv=14, scoring='neg_mean_squared_error')\n",
    "    RMSE_scores.append(np.mean(np.sqrt(-MSE_scores)))"
   ]
  },
  {
   "cell_type": "code",
   "execution_count": 29,
   "metadata": {},
   "outputs": [
    {
     "data": {
      "text/plain": [
       "Text(0, 0.5, 'RMSE (lower is better)')"
      ]
     },
     "execution_count": 29,
     "metadata": {},
     "output_type": "execute_result"
    },
    {
     "data": {
      "image/png": "[encoded data removed]",
      "text/plain": [
       "<Figure size 432x288 with 1 Axes>"
      ]
     },
     "metadata": {
      "needs_background": "light"
     },
     "output_type": "display_data"
    }
   ],
   "source": [
    "%matplotlib inline\n",
    "import matplotlib.pyplot as plt\n",
    "# plot max_depth (x-axis) versus RMSE (y-axis)\n",
    "plt.plot(max_depth_range, RMSE_scores)\n",
    "plt.xlabel('max_depth')\n",
    "plt.ylabel('RMSE (lower is better)')"
   ]
  },
  {
   "cell_type": "code",
   "execution_count": null,
   "metadata": {},
   "outputs": [],
   "source": []
  }
 ],
 "metadata": {
  "kernelspec": {
   "display_name": "Python 3",
   "language": "python",
   "name": "python3"
  },
  "language_info": {
   "codemirror_mode": {
    "name": "ipython",
    "version": 3
   },
   "file_extension": ".py",
   "mimetype": "text/x-python",
   "name": "python",
   "nbconvert_exporter": "python",
   "pygments_lexer": "ipython3",
   "version": "3.7.1"
  }
 },
 "nbformat": 4,
 "nbformat_minor": 1
}
